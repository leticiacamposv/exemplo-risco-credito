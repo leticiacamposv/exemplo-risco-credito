{
 "cells": [
  {
   "cell_type": "markdown",
   "metadata": {},
   "source": [
    "# Modelo para decisão de concessão de crédito (risco de crédito)"
   ]
  },
  {
   "cell_type": "markdown",
   "metadata": {},
   "source": [
    "#### Por: Leticia Campos Valente -> [LinkedIn](https://www.linkedin.com/in/leticia-campos-valente/)\n",
    "\n",
    "\\**Inspirada na solução de Odemir Depieri Jr, Ronisson Lucas C. da Conceição e Yan Vianna Sym*"
   ]
  },
  {
   "cell_type": "markdown",
   "metadata": {},
   "source": [
    "# 0. Importações"
   ]
  },
  {
   "cell_type": "code",
   "execution_count": 1,
   "metadata": {},
   "outputs": [],
   "source": [
    "import pandas as pd\n",
    "import numpy as np\n",
    "import seaborn as sns\n",
    "import matplotlib.pyplot as plt\n",
    "from sklearn.impute import KNNImputer\n",
    "from sklearn.preprocessing import StandardScaler\n",
    "from sklearn.metrics import classification_report\n",
    "from sklearn.model_selection import train_test_split, cross_val_score, GridSearchCV\n",
    "\n",
    "# Modelos a serem testados\n",
    "from sklearn.neighbors import KNeighborsClassifier\n",
    "from sklearn.ensemble import RandomForestClassifier\n",
    "from sklearn.linear_model import LogisticRegression\n",
    "from sklearn.tree import DecisionTreeClassifier\n",
    "from xgboost import XGBClassifier"
   ]
  },
  {
   "cell_type": "markdown",
   "metadata": {},
   "source": [
    "# 1. Descrição dos dados"
   ]
  },
  {
   "cell_type": "markdown",
   "metadata": {},
   "source": [
    "+ **Age** = Idade do solicitante (numérico)\n",
    "+ **Sex** = Gênero (texto: male, female)\n",
    "+ **Job** = (numérico(classe): 0 - unskilled and non-resident, 1 - unskilled and resident, 2 - skilled, 3 - highly skilled)\n",
    "+ **Housing** = Como é a moradia. Se é proprietário, aluga ou gratuita(texto: own, rent, or free)\n",
    "+ **Saving accounts** = Poupança pequena, moderada, rica, muito rica (texto - little, moderate, quite rich, rich)\n",
    "+ **Checking account** = Categórico sobre valor na conta corrente \n",
    "+ **Credit amount** = Valor de crédito que pegou emprestado(numerico, em DM - Deutsch Mark)\n",
    "+ **Duration** = Duração do empréstimo (numérico, em meses)\n",
    "+ **Purpose** = Propósito do crédito, e.g carro, mobilia/equipamento, etc (texto: carr, furniture/equipment, radio/TV, domestic appliances, repairs, education, business, vacation/others)"
   ]
  },
  {
   "cell_type": "code",
   "execution_count": 2,
   "metadata": {},
   "outputs": [
    {
     "name": "stdout",
     "output_type": "stream",
     "text": [
      "Index(['Unnamed: 0', 'Age', 'Sex', 'Job', 'Housing', 'Saving accounts',\n",
      "       'Checking account', 'Credit amount', 'Duration', 'Purpose'],\n",
      "      dtype='object')\n"
     ]
    }
   ],
   "source": [
    "df_credit = pd.read_csv('german_credit_data.csv')\n",
    "print(df_credit.columns)"
   ]
  },
  {
   "cell_type": "code",
   "execution_count": 3,
   "metadata": {},
   "outputs": [
    {
     "data": {
      "text/html": [
       "<div><div id=f2598f45-eafd-4814-8797-acfc517f7c2f style=\"display:none; background-color:#9D6CFF; color:white; width:200px; height:30px; padding-left:5px; border-radius:4px; flex-direction:row; justify-content:space-around; align-items:center;\" onmouseover=\"this.style.backgroundColor='#BA9BF8'\" onmouseout=\"this.style.backgroundColor='#9D6CFF'\" onclick=\"window.commands?.execute('create-mitosheet-from-dataframe-output');\">See Full Dataframe in Mito</div> <script> if (window.commands.hasCommand('create-mitosheet-from-dataframe-output')) document.getElementById('f2598f45-eafd-4814-8797-acfc517f7c2f').style.display = 'flex' </script> <table border=\"1\" class=\"dataframe\">\n",
       "  <thead>\n",
       "    <tr style=\"text-align: right;\">\n",
       "      <th></th>\n",
       "      <th>Age</th>\n",
       "      <th>Sex</th>\n",
       "      <th>Job</th>\n",
       "      <th>Housing</th>\n",
       "      <th>Saving accounts</th>\n",
       "      <th>Checking account</th>\n",
       "      <th>Credit amount</th>\n",
       "      <th>Duration</th>\n",
       "      <th>Purpose</th>\n",
       "    </tr>\n",
       "  </thead>\n",
       "  <tbody>\n",
       "    <tr>\n",
       "      <th>0</th>\n",
       "      <td>67</td>\n",
       "      <td>male</td>\n",
       "      <td>2</td>\n",
       "      <td>own</td>\n",
       "      <td>NaN</td>\n",
       "      <td>little</td>\n",
       "      <td>1169</td>\n",
       "      <td>6</td>\n",
       "      <td>radio/TV</td>\n",
       "    </tr>\n",
       "    <tr>\n",
       "      <th>1</th>\n",
       "      <td>22</td>\n",
       "      <td>female</td>\n",
       "      <td>2</td>\n",
       "      <td>own</td>\n",
       "      <td>little</td>\n",
       "      <td>moderate</td>\n",
       "      <td>5951</td>\n",
       "      <td>48</td>\n",
       "      <td>radio/TV</td>\n",
       "    </tr>\n",
       "    <tr>\n",
       "      <th>2</th>\n",
       "      <td>49</td>\n",
       "      <td>male</td>\n",
       "      <td>1</td>\n",
       "      <td>own</td>\n",
       "      <td>little</td>\n",
       "      <td>NaN</td>\n",
       "      <td>2096</td>\n",
       "      <td>12</td>\n",
       "      <td>education</td>\n",
       "    </tr>\n",
       "    <tr>\n",
       "      <th>3</th>\n",
       "      <td>45</td>\n",
       "      <td>male</td>\n",
       "      <td>2</td>\n",
       "      <td>free</td>\n",
       "      <td>little</td>\n",
       "      <td>little</td>\n",
       "      <td>7882</td>\n",
       "      <td>42</td>\n",
       "      <td>furniture/equipment</td>\n",
       "    </tr>\n",
       "    <tr>\n",
       "      <th>4</th>\n",
       "      <td>53</td>\n",
       "      <td>male</td>\n",
       "      <td>2</td>\n",
       "      <td>free</td>\n",
       "      <td>little</td>\n",
       "      <td>little</td>\n",
       "      <td>4870</td>\n",
       "      <td>24</td>\n",
       "      <td>car</td>\n",
       "    </tr>\n",
       "  </tbody>\n",
       "</table></div>"
      ],
      "text/plain": [
       "   Age     Sex  Job Housing Saving accounts Checking account  Credit amount  \\\n",
       "0   67    male    2     own             NaN           little           1169   \n",
       "1   22  female    2     own          little         moderate           5951   \n",
       "2   49    male    1     own          little              NaN           2096   \n",
       "3   45    male    2    free          little           little           7882   \n",
       "4   53    male    2    free          little           little           4870   \n",
       "\n",
       "   Duration              Purpose  \n",
       "0         6             radio/TV  \n",
       "1        48             radio/TV  \n",
       "2        12            education  \n",
       "3        42  furniture/equipment  \n",
       "4        24                  car  "
      ]
     },
     "execution_count": 3,
     "metadata": {},
     "output_type": "execute_result"
    }
   ],
   "source": [
    "# Essa coluna Unnamed normalmente vem quando o csv é exportado pelo pandas sem dar drop de index, sendo redundante a este, então:\n",
    "df_credit = df_credit.drop(columns='Unnamed: 0')\n",
    "df_credit.head()"
   ]
  },
  {
   "cell_type": "markdown",
   "metadata": {},
   "source": [
    "# 2. EDA e limpeza dos dados"
   ]
  },
  {
   "cell_type": "markdown",
   "metadata": {},
   "source": [
    "### 2.1 Checagem de tipo dos dados e se batem com a descrição"
   ]
  },
  {
   "cell_type": "code",
   "execution_count": 4,
   "metadata": {},
   "outputs": [
    {
     "name": "stdout",
     "output_type": "stream",
     "text": [
      "---------------------------------------Tipos das colunas no dataframe\n",
      "Age                  int64\n",
      "Sex                 object\n",
      "Job                  int64\n",
      "Housing             object\n",
      "Saving accounts     object\n",
      "Checking account    object\n",
      "Credit amount        int64\n",
      "Duration             int64\n",
      "Purpose             object\n",
      "dtype: object\n",
      "---------------------------------------Depois da tipagem correta\n"
     ]
    },
    {
     "data": {
      "text/plain": [
       "Age                    int64\n",
       "Sex                   object\n",
       "Job                 category\n",
       "Housing               object\n",
       "Saving accounts       object\n",
       "Checking account      object\n",
       "Credit amount          int64\n",
       "Duration               int64\n",
       "Purpose               object\n",
       "dtype: object"
      ]
     },
     "execution_count": 4,
     "metadata": {},
     "output_type": "execute_result"
    }
   ],
   "source": [
    "print('---------------------------------------Tipos das colunas no dataframe')\n",
    "print(df_credit.dtypes)\n",
    "\n",
    "# Como mencionado anteriormente que Job é uma espécie de classe e não número contínuo ou ordenado:\n",
    "df_credit['Job'] = df_credit.Job.astype('category')\n",
    "print('---------------------------------------Depois da tipagem correta')\n",
    "df_credit.dtypes"
   ]
  },
  {
   "cell_type": "markdown",
   "metadata": {},
   "source": [
    "### 2.2 Contagem de nulos e discussão da correção"
   ]
  },
  {
   "cell_type": "code",
   "execution_count": 5,
   "metadata": {},
   "outputs": [
    {
     "data": {
      "text/plain": [
       "Checking account    39.4\n",
       "Saving accounts     18.3\n",
       "dtype: float64"
      ]
     },
     "execution_count": 5,
     "metadata": {},
     "output_type": "execute_result"
    }
   ],
   "source": [
    "#Verificando quais colunas possuem valores nulos\n",
    "(df_credit.isnull().sum() / df_credit.shape[0] * 100).sort_values(ascending=False).loc[lambda x : x > 0]"
   ]
  },
  {
   "cell_type": "markdown",
   "metadata": {},
   "source": [
    "Percebe-se +-40% de nulos em Checking account e +-19% em Savings account, arredondando pro próximo inteiro acima.\n",
    "\n",
    "**Como tratar?**\n",
    "40%, em drop, é uma perda muito considerável de dados. Além disso, são informações muito importantes pro modelo, assim, opto pelo inputing ao invés de uma simples remoção. \n",
    "Duas coisas passaram pela minha cabeça: Ou está nulo porque não tem nenhum dinheiro/valor nessas contas ou realmente não se conseguiram estas informações, talvez por políticas de onde se obteve o dado. O tratamento de nulos será feito mais a frente, no final de feature engineering e explicarei o porquê.\n",
    "\n",
    "Por enquanto, vamos olhar agora as distribuições para as colunas categóricas.\n"
   ]
  },
  {
   "cell_type": "markdown",
   "metadata": {},
   "source": [
    "### 2.3 Visualização de distribuições categóricas e numéricas"
   ]
  },
  {
   "cell_type": "code",
   "execution_count": 6,
   "metadata": {},
   "outputs": [],
   "source": [
    "numeric_columns = df_credit.select_dtypes(include=np.number).columns.tolist()\n",
    "categoric_columns = df_credit.select_dtypes(exclude=np.number)"
   ]
  },
  {
   "cell_type": "markdown",
   "metadata": {},
   "source": [
    "#### 2.3.1 Categóricas"
   ]
  },
  {
   "cell_type": "code",
   "execution_count": 7,
   "metadata": {},
   "outputs": [
    {
     "name": "stdout",
     "output_type": "stream",
     "text": [
      "Sex\n",
      "['male' 'female']\n",
      "\n",
      "Job\n",
      "[2, 1, 3, 0]\n",
      "Categories (4, int64): [0, 1, 2, 3]\n",
      "\n",
      "Housing\n",
      "['own' 'free' 'rent']\n",
      "\n",
      "Saving accounts\n",
      "[nan 'little' 'quite rich' 'rich' 'moderate']\n",
      "\n",
      "Checking account\n",
      "['little' 'moderate' nan 'rich']\n",
      "\n",
      "Purpose\n",
      "['radio/TV' 'education' 'furniture/equipment' 'car' 'business'\n",
      " 'domestic appliances' 'repairs' 'vacation/others']\n",
      "\n"
     ]
    }
   ],
   "source": [
    "for col in categoric_columns:\n",
    "    print(col)\n",
    "    print(categoric_columns[col].unique());print()"
   ]
  },
  {
   "cell_type": "code",
   "execution_count": 8,
   "metadata": {},
   "outputs": [
    {
     "data": {
      "image/png": "[encoded data removed]",
      "text/plain": [
       "<Figure size 1800x360 with 6 Axes>"
      ]
     },
     "metadata": {
      "needs_background": "light"
     },
     "output_type": "display_data"
    }
   ],
   "source": [
    "fig, axs = plt.subplots(1, len(categoric_columns.columns.tolist()), figsize=(25, 5), sharey=True)\n",
    "fig.suptitle('Distribuição das categorias')\n",
    "for i,col in enumerate(categoric_columns.columns.tolist()):\n",
    "    df_credit[col].value_counts(normalize = True).sort_index().plot(kind = 'bar', ax=axs[i])\n",
    "    axs[i].set_title(col)"
   ]
  },
  {
   "cell_type": "markdown",
   "metadata": {},
   "source": [
    "Percebemos que, para Saving Acounts, substituir os valores nulos com 'little', que seria a moda, poderia ser uma solução se não tivesse uma quantidade considerável de nulos, porque fazer isso desbalancearia mais ainda os dados e poderia induzir alguns resultados em modelos, caso se notasse ser uma grande feature importance. Então não é uma solução plausível\n",
    "\n",
    "Adotarei então a abordagem de ***kNN inputing*** que é nada mais é usar o algoritimo de nearest neighbors para prever o valor das classes de saving e checking de acordo com as outras informações. A efetividade é verificada pela não alteração das distribuições categóricas. Mas, para isso, é preciso fazer feature engineering e passar todas as variáveis para tipos numéricos e outras preparações, como essencial para interpretação de qualquer modelo. Trataremos então os nulos ao final desses preparos."
   ]
  },
  {
   "cell_type": "markdown",
   "metadata": {},
   "source": [
    "#### 2.3.2 Numéricas"
   ]
  },
  {
   "cell_type": "code",
   "execution_count": 9,
   "metadata": {},
   "outputs": [
    {
     "data": {
      "image/png": "[encoded data removed]",
      "text/plain": [
       "<Figure size 1800x360 with 3 Axes>"
      ]
     },
     "metadata": {
      "needs_background": "light"
     },
     "output_type": "display_data"
    }
   ],
   "source": [
    "fig, axs = plt.subplots(1, len(numeric_columns), figsize=(25, 5))\n",
    "fig.suptitle('Distribuição das categorias')\n",
    "for i,col in enumerate(numeric_columns):\n",
    "    df_credit[col].hist(ax=axs[i])\n",
    "    axs[i].set_title(col)"
   ]
  },
  {
   "cell_type": "markdown",
   "metadata": {},
   "source": [
    "Em sua maioria, assimétricos para esquerda, indicando mais dados de pessoas entre 20 e 30 anos, 0-2500DM em crédito e 10-30 meses de duração do empréstimo"
   ]
  },
  {
   "cell_type": "code",
   "execution_count": 10,
   "metadata": {},
   "outputs": [
    {
     "data": {
      "text/html": [
       "<div><div id=382572ea-7ebc-4a01-8843-6c4bbf319036 style=\"display:none; background-color:#9D6CFF; color:white; width:200px; height:30px; padding-left:5px; border-radius:4px; flex-direction:row; justify-content:space-around; align-items:center;\" onmouseover=\"this.style.backgroundColor='#BA9BF8'\" onmouseout=\"this.style.backgroundColor='#9D6CFF'\" onclick=\"window.commands?.execute('create-mitosheet-from-dataframe-output');\">See Full Dataframe in Mito</div> <script> if (window.commands.hasCommand('create-mitosheet-from-dataframe-output')) document.getElementById('382572ea-7ebc-4a01-8843-6c4bbf319036').style.display = 'flex' </script> <table border=\"1\" class=\"dataframe\">\n",
       "  <thead>\n",
       "    <tr style=\"text-align: right;\">\n",
       "      <th></th>\n",
       "      <th>count</th>\n",
       "      <th>mean</th>\n",
       "      <th>std</th>\n",
       "      <th>min</th>\n",
       "      <th>0.1%</th>\n",
       "      <th>1%</th>\n",
       "      <th>10%</th>\n",
       "      <th>25%</th>\n",
       "      <th>50%</th>\n",
       "      <th>75%</th>\n",
       "      <th>90%</th>\n",
       "      <th>99%</th>\n",
       "      <th>99.9%</th>\n",
       "      <th>max</th>\n",
       "    </tr>\n",
       "  </thead>\n",
       "  <tbody>\n",
       "    <tr>\n",
       "      <th>Age</th>\n",
       "      <td>1000.0</td>\n",
       "      <td>35.546</td>\n",
       "      <td>11.375469</td>\n",
       "      <td>19.0</td>\n",
       "      <td>19.000</td>\n",
       "      <td>20.00</td>\n",
       "      <td>23.0</td>\n",
       "      <td>27.0</td>\n",
       "      <td>33.0</td>\n",
       "      <td>42.00</td>\n",
       "      <td>52.0</td>\n",
       "      <td>67.01</td>\n",
       "      <td>75.000</td>\n",
       "      <td>75.0</td>\n",
       "    </tr>\n",
       "    <tr>\n",
       "      <th>Credit amount</th>\n",
       "      <td>1000.0</td>\n",
       "      <td>3271.258</td>\n",
       "      <td>2822.736876</td>\n",
       "      <td>250.0</td>\n",
       "      <td>275.974</td>\n",
       "      <td>425.83</td>\n",
       "      <td>932.0</td>\n",
       "      <td>1365.5</td>\n",
       "      <td>2319.5</td>\n",
       "      <td>3972.25</td>\n",
       "      <td>7179.4</td>\n",
       "      <td>14180.39</td>\n",
       "      <td>15947.479</td>\n",
       "      <td>18424.0</td>\n",
       "    </tr>\n",
       "    <tr>\n",
       "      <th>Duration</th>\n",
       "      <td>1000.0</td>\n",
       "      <td>20.903</td>\n",
       "      <td>12.058814</td>\n",
       "      <td>4.0</td>\n",
       "      <td>4.000</td>\n",
       "      <td>6.00</td>\n",
       "      <td>9.0</td>\n",
       "      <td>12.0</td>\n",
       "      <td>18.0</td>\n",
       "      <td>24.00</td>\n",
       "      <td>36.0</td>\n",
       "      <td>60.00</td>\n",
       "      <td>60.012</td>\n",
       "      <td>72.0</td>\n",
       "    </tr>\n",
       "  </tbody>\n",
       "</table></div>"
      ],
      "text/plain": [
       "                count      mean          std    min     0.1%      1%    10%  \\\n",
       "Age            1000.0    35.546    11.375469   19.0   19.000   20.00   23.0   \n",
       "Credit amount  1000.0  3271.258  2822.736876  250.0  275.974  425.83  932.0   \n",
       "Duration       1000.0    20.903    12.058814    4.0    4.000    6.00    9.0   \n",
       "\n",
       "                  25%     50%      75%     90%       99%      99.9%      max  \n",
       "Age              27.0    33.0    42.00    52.0     67.01     75.000     75.0  \n",
       "Credit amount  1365.5  2319.5  3972.25  7179.4  14180.39  15947.479  18424.0  \n",
       "Duration         12.0    18.0    24.00    36.0     60.00     60.012     72.0  "
      ]
     },
     "execution_count": 10,
     "metadata": {},
     "output_type": "execute_result"
    }
   ],
   "source": [
    "# Complementando a visualização do histograma\n",
    "df_credit.describe(percentiles=[0.001, .01, .1, .25, .5, .75, .9, .99, .999]).T"
   ]
  },
  {
   "cell_type": "markdown",
   "metadata": {},
   "source": [
    "# 3. Data treatment / feature engineering"
   ]
  },
  {
   "cell_type": "markdown",
   "metadata": {},
   "source": [
    "Neste dataset em específico, optei não fazer remoção de outliers uma vez que os outliers podem ser exatamente parte da reposta que procuramos."
   ]
  },
  {
   "cell_type": "markdown",
   "metadata": {},
   "source": [
    "### 3.1 Feature engineering de categóricas"
   ]
  },
  {
   "cell_type": "code",
   "execution_count": 11,
   "metadata": {},
   "outputs": [],
   "source": [
    "# Categorias que existem certo tipo de ordenação podem ser diretamente categorizadas em números, apesar de também tipar na frente como categoria. Em ordem de importância para o risco.\n",
    "\n",
    "df_credit['Saving accounts'] = df_credit['Saving accounts'].map({'rich': 0, 'quite rich': 1, 'moderate': 2, 'little': 3})\n",
    "df_credit['Checking account'] = df_credit['Checking account'].map({'rich': 0, 'moderate': 1, 'little': 2 })\n",
    "df_credit['Housing'] = df_credit['Housing'].map({'own': 0, 'rent': 1, 'free': 2 })\n",
    "\n",
    "\n",
    "# As demais serão separadas em categorias binárias por não poder se definir alguma ordem de importância, usando o método one-hot encoding\n",
    "\n",
    "df_credit['Sex'] = df_credit['Sex'].map({'male': 0, 'female': 1}).astype(int)\n",
    "\n",
    "purposes = pd.get_dummies(df_credit['Purpose'])\n",
    "df = pd.concat([df_credit.drop(columns='Purpose'), purposes], axis=1)\n",
    "\n",
    "df[['Saving accounts', 'Checking account', 'Housing', 'Sex']] = df[['Saving accounts', 'Checking account', 'Housing', 'Sex']].astype('category')"
   ]
  },
  {
   "cell_type": "code",
   "execution_count": 12,
   "metadata": {},
   "outputs": [
    {
     "data": {
      "text/html": [
       "<div><div id=0761ec26-32ae-4bbf-bf07-6e41057bc7f1 style=\"display:none; background-color:#9D6CFF; color:white; width:200px; height:30px; padding-left:5px; border-radius:4px; flex-direction:row; justify-content:space-around; align-items:center;\" onmouseover=\"this.style.backgroundColor='#BA9BF8'\" onmouseout=\"this.style.backgroundColor='#9D6CFF'\" onclick=\"window.commands?.execute('create-mitosheet-from-dataframe-output');\">See Full Dataframe in Mito</div> <script> if (window.commands.hasCommand('create-mitosheet-from-dataframe-output')) document.getElementById('0761ec26-32ae-4bbf-bf07-6e41057bc7f1').style.display = 'flex' </script> <table border=\"1\" class=\"dataframe\">\n",
       "  <thead>\n",
       "    <tr style=\"text-align: right;\">\n",
       "      <th></th>\n",
       "      <th>Age</th>\n",
       "      <th>Sex</th>\n",
       "      <th>Job</th>\n",
       "      <th>Housing</th>\n",
       "      <th>Saving accounts</th>\n",
       "      <th>Checking account</th>\n",
       "      <th>Credit amount</th>\n",
       "      <th>Duration</th>\n",
       "      <th>business</th>\n",
       "      <th>car</th>\n",
       "      <th>domestic appliances</th>\n",
       "      <th>education</th>\n",
       "      <th>furniture/equipment</th>\n",
       "      <th>radio/TV</th>\n",
       "      <th>repairs</th>\n",
       "      <th>vacation/others</th>\n",
       "    </tr>\n",
       "  </thead>\n",
       "  <tbody>\n",
       "    <tr>\n",
       "      <th>0</th>\n",
       "      <td>67</td>\n",
       "      <td>0</td>\n",
       "      <td>2</td>\n",
       "      <td>0</td>\n",
       "      <td>NaN</td>\n",
       "      <td>2.0</td>\n",
       "      <td>1169</td>\n",
       "      <td>6</td>\n",
       "      <td>0</td>\n",
       "      <td>0</td>\n",
       "      <td>0</td>\n",
       "      <td>0</td>\n",
       "      <td>0</td>\n",
       "      <td>1</td>\n",
       "      <td>0</td>\n",
       "      <td>0</td>\n",
       "    </tr>\n",
       "    <tr>\n",
       "      <th>1</th>\n",
       "      <td>22</td>\n",
       "      <td>1</td>\n",
       "      <td>2</td>\n",
       "      <td>0</td>\n",
       "      <td>3.0</td>\n",
       "      <td>1.0</td>\n",
       "      <td>5951</td>\n",
       "      <td>48</td>\n",
       "      <td>0</td>\n",
       "      <td>0</td>\n",
       "      <td>0</td>\n",
       "      <td>0</td>\n",
       "      <td>0</td>\n",
       "      <td>1</td>\n",
       "      <td>0</td>\n",
       "      <td>0</td>\n",
       "    </tr>\n",
       "    <tr>\n",
       "      <th>2</th>\n",
       "      <td>49</td>\n",
       "      <td>0</td>\n",
       "      <td>1</td>\n",
       "      <td>0</td>\n",
       "      <td>3.0</td>\n",
       "      <td>NaN</td>\n",
       "      <td>2096</td>\n",
       "      <td>12</td>\n",
       "      <td>0</td>\n",
       "      <td>0</td>\n",
       "      <td>0</td>\n",
       "      <td>1</td>\n",
       "      <td>0</td>\n",
       "      <td>0</td>\n",
       "      <td>0</td>\n",
       "      <td>0</td>\n",
       "    </tr>\n",
       "    <tr>\n",
       "      <th>3</th>\n",
       "      <td>45</td>\n",
       "      <td>0</td>\n",
       "      <td>2</td>\n",
       "      <td>2</td>\n",
       "      <td>3.0</td>\n",
       "      <td>2.0</td>\n",
       "      <td>7882</td>\n",
       "      <td>42</td>\n",
       "      <td>0</td>\n",
       "      <td>0</td>\n",
       "      <td>0</td>\n",
       "      <td>0</td>\n",
       "      <td>1</td>\n",
       "      <td>0</td>\n",
       "      <td>0</td>\n",
       "      <td>0</td>\n",
       "    </tr>\n",
       "    <tr>\n",
       "      <th>4</th>\n",
       "      <td>53</td>\n",
       "      <td>0</td>\n",
       "      <td>2</td>\n",
       "      <td>2</td>\n",
       "      <td>3.0</td>\n",
       "      <td>2.0</td>\n",
       "      <td>4870</td>\n",
       "      <td>24</td>\n",
       "      <td>0</td>\n",
       "      <td>1</td>\n",
       "      <td>0</td>\n",
       "      <td>0</td>\n",
       "      <td>0</td>\n",
       "      <td>0</td>\n",
       "      <td>0</td>\n",
       "      <td>0</td>\n",
       "    </tr>\n",
       "  </tbody>\n",
       "</table></div>"
      ],
      "text/plain": [
       "   Age Sex Job Housing Saving accounts Checking account  Credit amount  \\\n",
       "0   67   0   2       0             NaN              2.0           1169   \n",
       "1   22   1   2       0             3.0              1.0           5951   \n",
       "2   49   0   1       0             3.0              NaN           2096   \n",
       "3   45   0   2       2             3.0              2.0           7882   \n",
       "4   53   0   2       2             3.0              2.0           4870   \n",
       "\n",
       "   Duration  business  car  domestic appliances  education  \\\n",
       "0         6         0    0                    0          0   \n",
       "1        48         0    0                    0          0   \n",
       "2        12         0    0                    0          1   \n",
       "3        42         0    0                    0          0   \n",
       "4        24         0    1                    0          0   \n",
       "\n",
       "   furniture/equipment  radio/TV  repairs  vacation/others  \n",
       "0                    0         1        0                0  \n",
       "1                    0         1        0                0  \n",
       "2                    0         0        0                0  \n",
       "3                    1         0        0                0  \n",
       "4                    0         0        0                0  "
      ]
     },
     "execution_count": 12,
     "metadata": {},
     "output_type": "execute_result"
    }
   ],
   "source": [
    "df.head()"
   ]
  },
  {
   "cell_type": "markdown",
   "metadata": {},
   "source": [
    "### 3.2 Feature engineering de numéricas"
   ]
  },
  {
   "cell_type": "code",
   "execution_count": 13,
   "metadata": {},
   "outputs": [],
   "source": [
    "\"\"\" Como Age e Duration tem um período limitado, um range, optou-se pela normalização, também conhecido como Min Max Scaler, uma vez que apenas irá enquadrar os números em um range de 0-1, \n",
    "aumentando a velocidade de processamento do modelo.\"\"\"\n",
    "\n",
    "df['Age'] = (df.Age - df.Age.min()) / (df.Age.max() - df.Age.min())\n",
    "\n",
    "# Já para a quantidade de crédito, como, técnicamente não possui nenhum range ou limite, opto pelo standardScaler, uma vez que este não tentará enquadrar os números, apenas transformar\n",
    "\n",
    "df['Credit amount'] = StandardScaler().fit_transform(df['Credit amount'].values.reshape(-1, 1))"
   ]
  },
  {
   "cell_type": "code",
   "execution_count": 14,
   "metadata": {},
   "outputs": [
    {
     "data": {
      "text/html": [
       "<div><div id=e6ef5c07-6055-472a-9ef8-a44bb2b7b12c style=\"display:none; background-color:#9D6CFF; color:white; width:200px; height:30px; padding-left:5px; border-radius:4px; flex-direction:row; justify-content:space-around; align-items:center;\" onmouseover=\"this.style.backgroundColor='#BA9BF8'\" onmouseout=\"this.style.backgroundColor='#9D6CFF'\" onclick=\"window.commands?.execute('create-mitosheet-from-dataframe-output');\">See Full Dataframe in Mito</div> <script> if (window.commands.hasCommand('create-mitosheet-from-dataframe-output')) document.getElementById('e6ef5c07-6055-472a-9ef8-a44bb2b7b12c').style.display = 'flex' </script> <table border=\"1\" class=\"dataframe\">\n",
       "  <thead>\n",
       "    <tr style=\"text-align: right;\">\n",
       "      <th></th>\n",
       "      <th>Age</th>\n",
       "      <th>Sex</th>\n",
       "      <th>Job</th>\n",
       "      <th>Housing</th>\n",
       "      <th>Saving accounts</th>\n",
       "      <th>Checking account</th>\n",
       "      <th>Credit amount</th>\n",
       "      <th>Duration</th>\n",
       "      <th>business</th>\n",
       "      <th>car</th>\n",
       "      <th>domestic appliances</th>\n",
       "      <th>education</th>\n",
       "      <th>furniture/equipment</th>\n",
       "      <th>radio/TV</th>\n",
       "      <th>repairs</th>\n",
       "      <th>vacation/others</th>\n",
       "    </tr>\n",
       "  </thead>\n",
       "  <tbody>\n",
       "    <tr>\n",
       "      <th>0</th>\n",
       "      <td>0.857143</td>\n",
       "      <td>0</td>\n",
       "      <td>2</td>\n",
       "      <td>0</td>\n",
       "      <td>NaN</td>\n",
       "      <td>2.0</td>\n",
       "      <td>-0.745131</td>\n",
       "      <td>6</td>\n",
       "      <td>0</td>\n",
       "      <td>0</td>\n",
       "      <td>0</td>\n",
       "      <td>0</td>\n",
       "      <td>0</td>\n",
       "      <td>1</td>\n",
       "      <td>0</td>\n",
       "      <td>0</td>\n",
       "    </tr>\n",
       "    <tr>\n",
       "      <th>1</th>\n",
       "      <td>0.053571</td>\n",
       "      <td>1</td>\n",
       "      <td>2</td>\n",
       "      <td>0</td>\n",
       "      <td>3.0</td>\n",
       "      <td>1.0</td>\n",
       "      <td>0.949817</td>\n",
       "      <td>48</td>\n",
       "      <td>0</td>\n",
       "      <td>0</td>\n",
       "      <td>0</td>\n",
       "      <td>0</td>\n",
       "      <td>0</td>\n",
       "      <td>1</td>\n",
       "      <td>0</td>\n",
       "      <td>0</td>\n",
       "    </tr>\n",
       "    <tr>\n",
       "      <th>2</th>\n",
       "      <td>0.535714</td>\n",
       "      <td>0</td>\n",
       "      <td>1</td>\n",
       "      <td>0</td>\n",
       "      <td>3.0</td>\n",
       "      <td>NaN</td>\n",
       "      <td>-0.416562</td>\n",
       "      <td>12</td>\n",
       "      <td>0</td>\n",
       "      <td>0</td>\n",
       "      <td>0</td>\n",
       "      <td>1</td>\n",
       "      <td>0</td>\n",
       "      <td>0</td>\n",
       "      <td>0</td>\n",
       "      <td>0</td>\n",
       "    </tr>\n",
       "    <tr>\n",
       "      <th>3</th>\n",
       "      <td>0.464286</td>\n",
       "      <td>0</td>\n",
       "      <td>2</td>\n",
       "      <td>2</td>\n",
       "      <td>3.0</td>\n",
       "      <td>2.0</td>\n",
       "      <td>1.634247</td>\n",
       "      <td>42</td>\n",
       "      <td>0</td>\n",
       "      <td>0</td>\n",
       "      <td>0</td>\n",
       "      <td>0</td>\n",
       "      <td>1</td>\n",
       "      <td>0</td>\n",
       "      <td>0</td>\n",
       "      <td>0</td>\n",
       "    </tr>\n",
       "    <tr>\n",
       "      <th>4</th>\n",
       "      <td>0.607143</td>\n",
       "      <td>0</td>\n",
       "      <td>2</td>\n",
       "      <td>2</td>\n",
       "      <td>3.0</td>\n",
       "      <td>2.0</td>\n",
       "      <td>0.566664</td>\n",
       "      <td>24</td>\n",
       "      <td>0</td>\n",
       "      <td>1</td>\n",
       "      <td>0</td>\n",
       "      <td>0</td>\n",
       "      <td>0</td>\n",
       "      <td>0</td>\n",
       "      <td>0</td>\n",
       "      <td>0</td>\n",
       "    </tr>\n",
       "  </tbody>\n",
       "</table></div>"
      ],
      "text/plain": [
       "        Age Sex Job Housing Saving accounts Checking account  Credit amount  \\\n",
       "0  0.857143   0   2       0             NaN              2.0      -0.745131   \n",
       "1  0.053571   1   2       0             3.0              1.0       0.949817   \n",
       "2  0.535714   0   1       0             3.0              NaN      -0.416562   \n",
       "3  0.464286   0   2       2             3.0              2.0       1.634247   \n",
       "4  0.607143   0   2       2             3.0              2.0       0.566664   \n",
       "\n",
       "   Duration  business  car  domestic appliances  education  \\\n",
       "0         6         0    0                    0          0   \n",
       "1        48         0    0                    0          0   \n",
       "2        12         0    0                    0          1   \n",
       "3        42         0    0                    0          0   \n",
       "4        24         0    1                    0          0   \n",
       "\n",
       "   furniture/equipment  radio/TV  repairs  vacation/others  \n",
       "0                    0         1        0                0  \n",
       "1                    0         1        0                0  \n",
       "2                    0         0        0                0  \n",
       "3                    1         0        0                0  \n",
       "4                    0         0        0                0  "
      ]
     },
     "execution_count": 14,
     "metadata": {},
     "output_type": "execute_result"
    }
   ],
   "source": [
    "df.head()"
   ]
  },
  {
   "cell_type": "markdown",
   "metadata": {},
   "source": [
    "### 3.3 Tratamento de nulos"
   ]
  },
  {
   "cell_type": "markdown",
   "metadata": {},
   "source": [
    "Passamos então para o tratamento de nulos por kNN inputing, como mencionado anteriormente, uma vez as demais variáveis todas estarem pré-processadas"
   ]
  },
  {
   "cell_type": "code",
   "execution_count": 15,
   "metadata": {},
   "outputs": [],
   "source": [
    "imputer = KNNImputer(n_neighbors=2) #O mais próximo\n",
    "X = pd.DataFrame(imputer.fit_transform(df), columns=df.columns)"
   ]
  },
  {
   "cell_type": "markdown",
   "metadata": {},
   "source": [
    "#### 3.3.1 Comparação"
   ]
  },
  {
   "cell_type": "code",
   "execution_count": 16,
   "metadata": {},
   "outputs": [
    {
     "data": {
      "image/png": "[encoded data removed]",
      "text/plain": [
       "<Figure size 648x360 with 2 Axes>"
      ]
     },
     "metadata": {
      "needs_background": "light"
     },
     "output_type": "display_data"
    }
   ],
   "source": [
    "null_columns = ['Saving accounts', 'Checking account']\n",
    "fig, axs = plt.subplots(1, len(null_columns), figsize=(9, 5), sharey=True)\n",
    "fig.suptitle('Distribuição das categorias')\n",
    "for i,col in enumerate(null_columns):\n",
    "    df_credit[col].value_counts(normalize = True).sort_index().plot(kind = 'bar', ax=axs[i])\n",
    "    axs[i].set_title(col)"
   ]
  },
  {
   "cell_type": "code",
   "execution_count": 17,
   "metadata": {},
   "outputs": [
    {
     "data": {
      "image/png": "[encoded data removed]",
      "text/plain": [
       "<Figure size 648x360 with 2 Axes>"
      ]
     },
     "metadata": {
      "needs_background": "light"
     },
     "output_type": "display_data"
    }
   ],
   "source": [
    "fig, axs = plt.subplots(1, len(null_columns), figsize=(9, 5), sharey=True)\n",
    "fig.suptitle('Distribuição das categorias')\n",
    "for i,col in enumerate(null_columns):\n",
    "    X[col].value_counts(normalize = True).sort_index().plot(kind = 'bar', ax=axs[i])\n",
    "    axs[i].set_title(col)"
   ]
  },
  {
   "cell_type": "markdown",
   "metadata": {},
   "source": [
    "Perceba que as distribuições foram afetadas em poucos pontos percentuais e mantiveram a característica da distribuição em sua maior parte, apesar de notarmos diferenças. Não acentuou-se apenas uma classe como um input pela moda faria. Podemos prosseguir então para a elaboração do modelo"
   ]
  },
  {
   "cell_type": "markdown",
   "metadata": {},
   "source": [
    "### 3.4 Variável target"
   ]
  },
  {
   "cell_type": "markdown",
   "metadata": {},
   "source": [
    "Geralmente se dá muita importancia pra PREDIÇÃO da variável target, se é um bom ou mal empréstimo(o nível do risco se vê depois disso)\n",
    "\n",
    "Para mim, mais delicado e crucial ainda, e o que mais dou atenção, é na CONSTRUÇÃO desta variável. Classificar um empréstimo como bom ou ruim envolve assumir varias coisas e pode facilmente determinar o nível de sucesso de todo o processo de modelagem.\n",
    "\n",
    "Como este notebook é apenas um exemplo de como podemos fazer essa abordagem com esse dataset específico, vou tomar apenas o tempo de empréstimo (Duration) como parâmetro para definir um empréstimo como ruim ou bom, em minha própria assunção. O limite para bom/ruim deve variar de acordo com o observado no negócio e, se possível, previamente tabelado\n",
    "\n",
    "Arbitráriamente escolhi >18 meses de duração(ou atraso, de acordo com minha interpretação) um 'mal' empréstimo. Poderia também considerar o valor, mas, para fins de conhecimento, será adotada a abordagem mais simples.\n",
    "\n",
    "Assim,"
   ]
  },
  {
   "cell_type": "code",
   "execution_count": 18,
   "metadata": {},
   "outputs": [],
   "source": [
    "df['target'] = df['Duration'].apply(lambda x: 0 if x<=18 else 1)\n",
    "y = df['target']\n",
    "df.drop(columns = 'Duration', inplace=True)"
   ]
  },
  {
   "cell_type": "markdown",
   "metadata": {},
   "source": [
    "0 = Não arriscado; 1 = Arriscado"
   ]
  },
  {
   "cell_type": "code",
   "execution_count": 19,
   "metadata": {},
   "outputs": [
    {
     "data": {
      "text/html": [
       "<div><div id=5d069a7e-6449-4b72-8214-a8eadb942682 style=\"display:none; background-color:#9D6CFF; color:white; width:200px; height:30px; padding-left:5px; border-radius:4px; flex-direction:row; justify-content:space-around; align-items:center;\" onmouseover=\"this.style.backgroundColor='#BA9BF8'\" onmouseout=\"this.style.backgroundColor='#9D6CFF'\" onclick=\"window.commands?.execute('create-mitosheet-from-dataframe-output');\">See Full Dataframe in Mito</div> <script> if (window.commands.hasCommand('create-mitosheet-from-dataframe-output')) document.getElementById('5d069a7e-6449-4b72-8214-a8eadb942682').style.display = 'flex' </script> <table border=\"1\" class=\"dataframe\">\n",
       "  <thead>\n",
       "    <tr style=\"text-align: right;\">\n",
       "      <th></th>\n",
       "      <th>Age</th>\n",
       "      <th>Sex</th>\n",
       "      <th>Job</th>\n",
       "      <th>Housing</th>\n",
       "      <th>Saving accounts</th>\n",
       "      <th>Checking account</th>\n",
       "      <th>Credit amount</th>\n",
       "      <th>business</th>\n",
       "      <th>car</th>\n",
       "      <th>domestic appliances</th>\n",
       "      <th>education</th>\n",
       "      <th>furniture/equipment</th>\n",
       "      <th>radio/TV</th>\n",
       "      <th>repairs</th>\n",
       "      <th>vacation/others</th>\n",
       "      <th>target</th>\n",
       "    </tr>\n",
       "  </thead>\n",
       "  <tbody>\n",
       "    <tr>\n",
       "      <th>0</th>\n",
       "      <td>0.857143</td>\n",
       "      <td>0</td>\n",
       "      <td>2</td>\n",
       "      <td>0</td>\n",
       "      <td>NaN</td>\n",
       "      <td>2.0</td>\n",
       "      <td>-0.745131</td>\n",
       "      <td>0</td>\n",
       "      <td>0</td>\n",
       "      <td>0</td>\n",
       "      <td>0</td>\n",
       "      <td>0</td>\n",
       "      <td>1</td>\n",
       "      <td>0</td>\n",
       "      <td>0</td>\n",
       "      <td>0</td>\n",
       "    </tr>\n",
       "    <tr>\n",
       "      <th>1</th>\n",
       "      <td>0.053571</td>\n",
       "      <td>1</td>\n",
       "      <td>2</td>\n",
       "      <td>0</td>\n",
       "      <td>3.0</td>\n",
       "      <td>1.0</td>\n",
       "      <td>0.949817</td>\n",
       "      <td>0</td>\n",
       "      <td>0</td>\n",
       "      <td>0</td>\n",
       "      <td>0</td>\n",
       "      <td>0</td>\n",
       "      <td>1</td>\n",
       "      <td>0</td>\n",
       "      <td>0</td>\n",
       "      <td>1</td>\n",
       "    </tr>\n",
       "    <tr>\n",
       "      <th>2</th>\n",
       "      <td>0.535714</td>\n",
       "      <td>0</td>\n",
       "      <td>1</td>\n",
       "      <td>0</td>\n",
       "      <td>3.0</td>\n",
       "      <td>NaN</td>\n",
       "      <td>-0.416562</td>\n",
       "      <td>0</td>\n",
       "      <td>0</td>\n",
       "      <td>0</td>\n",
       "      <td>1</td>\n",
       "      <td>0</td>\n",
       "      <td>0</td>\n",
       "      <td>0</td>\n",
       "      <td>0</td>\n",
       "      <td>0</td>\n",
       "    </tr>\n",
       "    <tr>\n",
       "      <th>3</th>\n",
       "      <td>0.464286</td>\n",
       "      <td>0</td>\n",
       "      <td>2</td>\n",
       "      <td>2</td>\n",
       "      <td>3.0</td>\n",
       "      <td>2.0</td>\n",
       "      <td>1.634247</td>\n",
       "      <td>0</td>\n",
       "      <td>0</td>\n",
       "      <td>0</td>\n",
       "      <td>0</td>\n",
       "      <td>1</td>\n",
       "      <td>0</td>\n",
       "      <td>0</td>\n",
       "      <td>0</td>\n",
       "      <td>1</td>\n",
       "    </tr>\n",
       "    <tr>\n",
       "      <th>4</th>\n",
       "      <td>0.607143</td>\n",
       "      <td>0</td>\n",
       "      <td>2</td>\n",
       "      <td>2</td>\n",
       "      <td>3.0</td>\n",
       "      <td>2.0</td>\n",
       "      <td>0.566664</td>\n",
       "      <td>0</td>\n",
       "      <td>1</td>\n",
       "      <td>0</td>\n",
       "      <td>0</td>\n",
       "      <td>0</td>\n",
       "      <td>0</td>\n",
       "      <td>0</td>\n",
       "      <td>0</td>\n",
       "      <td>1</td>\n",
       "    </tr>\n",
       "  </tbody>\n",
       "</table></div>"
      ],
      "text/plain": [
       "        Age Sex Job Housing Saving accounts Checking account  Credit amount  \\\n",
       "0  0.857143   0   2       0             NaN              2.0      -0.745131   \n",
       "1  0.053571   1   2       0             3.0              1.0       0.949817   \n",
       "2  0.535714   0   1       0             3.0              NaN      -0.416562   \n",
       "3  0.464286   0   2       2             3.0              2.0       1.634247   \n",
       "4  0.607143   0   2       2             3.0              2.0       0.566664   \n",
       "\n",
       "   business  car  domestic appliances  education  furniture/equipment  \\\n",
       "0         0    0                    0          0                    0   \n",
       "1         0    0                    0          0                    0   \n",
       "2         0    0                    0          1                    0   \n",
       "3         0    0                    0          0                    1   \n",
       "4         0    1                    0          0                    0   \n",
       "\n",
       "   radio/TV  repairs  vacation/others  target  \n",
       "0         1        0                0       0  \n",
       "1         1        0                0       1  \n",
       "2         0        0                0       0  \n",
       "3         0        0                0       1  \n",
       "4         0        0                0       1  "
      ]
     },
     "execution_count": 19,
     "metadata": {},
     "output_type": "execute_result"
    }
   ],
   "source": [
    "df.head()"
   ]
  },
  {
   "cell_type": "markdown",
   "metadata": {},
   "source": [
    "#### 3.4.1 Explorando o balanço entre emprestimo arriscado/não e demais variáveis categóricas"
   ]
  },
  {
   "cell_type": "code",
   "execution_count": 20,
   "metadata": {},
   "outputs": [
    {
     "data": {
      "image/png": "[encoded data removed]",
      "text/plain": [
       "<Figure size 1080x720 with 15 Axes>"
      ]
     },
     "metadata": {
      "needs_background": "light"
     },
     "output_type": "display_data"
    }
   ],
   "source": [
    "fig, axes = plt.subplots(nrows=5, ncols=3, figsize=(15, 10))\n",
    "\n",
    "categorical_vars = ['Sex', 'Job', 'Housing', 'Saving accounts', 'Checking account', \n",
    "                    'business', 'car', 'domestic appliances', 'education', 'furniture/equipment', 'radio/TV', 'repairs', 'vacation/others']\n",
    "\n",
    "for i, var in enumerate(categorical_vars):\n",
    "    row = i // 3  # Calculando o índice da linha para fazer com que sejam 3 gráficos por linha\n",
    "    col = i % 3   # Calculando i índice da coluna\n",
    "\n",
    "    sns.countplot(x=var, hue=\"target\", data=df, ax=axes[row, col], palette = \"crest\")\n",
    "    axes[row, col].set_title(f'{var} vs Target')\n",
    "\n",
    "# Ajuste de espaço entre gráficos\n",
    "plt.tight_layout()\n",
    "\n",
    "plt.show()"
   ]
  },
  {
   "cell_type": "markdown",
   "metadata": {},
   "source": [
    "Como, por sorte, ficou bem balanceado, nenhuma tratativa ou sampling será feito para corrigir classes nesse notebook."
   ]
  },
  {
   "cell_type": "markdown",
   "metadata": {},
   "source": [
    "# 4. Preparativos e treino do modelo"
   ]
  },
  {
   "cell_type": "code",
   "execution_count": 21,
   "metadata": {},
   "outputs": [
    {
     "data": {
      "text/html": [
       "<div><div id=4bc974cf-4b81-44a8-93b6-0ccd7e711ae2 style=\"display:none; background-color:#9D6CFF; color:white; width:200px; height:30px; padding-left:5px; border-radius:4px; flex-direction:row; justify-content:space-around; align-items:center;\" onmouseover=\"this.style.backgroundColor='#BA9BF8'\" onmouseout=\"this.style.backgroundColor='#9D6CFF'\" onclick=\"window.commands?.execute('create-mitosheet-from-dataframe-output');\">See Full Dataframe in Mito</div> <script> if (window.commands.hasCommand('create-mitosheet-from-dataframe-output')) document.getElementById('4bc974cf-4b81-44a8-93b6-0ccd7e711ae2').style.display = 'flex' </script> <table border=\"1\" class=\"dataframe\">\n",
       "  <thead>\n",
       "    <tr style=\"text-align: right;\">\n",
       "      <th></th>\n",
       "      <th>Age</th>\n",
       "      <th>Sex</th>\n",
       "      <th>Job</th>\n",
       "      <th>Housing</th>\n",
       "      <th>Saving_accounts</th>\n",
       "      <th>Checking_account</th>\n",
       "      <th>Credit_amount</th>\n",
       "      <th>business</th>\n",
       "      <th>car</th>\n",
       "      <th>domestic_appliances</th>\n",
       "      <th>education</th>\n",
       "      <th>furniture_equipment</th>\n",
       "      <th>radio_TV</th>\n",
       "      <th>repairs</th>\n",
       "      <th>vacation_others</th>\n",
       "    </tr>\n",
       "  </thead>\n",
       "  <tbody>\n",
       "    <tr>\n",
       "      <th>0</th>\n",
       "      <td>0.857143</td>\n",
       "      <td>0.0</td>\n",
       "      <td>2.0</td>\n",
       "      <td>0.0</td>\n",
       "      <td>2.0</td>\n",
       "      <td>2.0</td>\n",
       "      <td>-0.745131</td>\n",
       "      <td>0.0</td>\n",
       "      <td>0.0</td>\n",
       "      <td>0.0</td>\n",
       "      <td>0.0</td>\n",
       "      <td>0.0</td>\n",
       "      <td>1.0</td>\n",
       "      <td>0.0</td>\n",
       "      <td>0.0</td>\n",
       "    </tr>\n",
       "    <tr>\n",
       "      <th>1</th>\n",
       "      <td>0.053571</td>\n",
       "      <td>1.0</td>\n",
       "      <td>2.0</td>\n",
       "      <td>0.0</td>\n",
       "      <td>3.0</td>\n",
       "      <td>1.0</td>\n",
       "      <td>0.949817</td>\n",
       "      <td>0.0</td>\n",
       "      <td>0.0</td>\n",
       "      <td>0.0</td>\n",
       "      <td>0.0</td>\n",
       "      <td>0.0</td>\n",
       "      <td>1.0</td>\n",
       "      <td>0.0</td>\n",
       "      <td>0.0</td>\n",
       "    </tr>\n",
       "    <tr>\n",
       "      <th>2</th>\n",
       "      <td>0.535714</td>\n",
       "      <td>0.0</td>\n",
       "      <td>1.0</td>\n",
       "      <td>0.0</td>\n",
       "      <td>3.0</td>\n",
       "      <td>1.5</td>\n",
       "      <td>-0.416562</td>\n",
       "      <td>0.0</td>\n",
       "      <td>0.0</td>\n",
       "      <td>0.0</td>\n",
       "      <td>1.0</td>\n",
       "      <td>0.0</td>\n",
       "      <td>0.0</td>\n",
       "      <td>0.0</td>\n",
       "      <td>0.0</td>\n",
       "    </tr>\n",
       "    <tr>\n",
       "      <th>3</th>\n",
       "      <td>0.464286</td>\n",
       "      <td>0.0</td>\n",
       "      <td>2.0</td>\n",
       "      <td>2.0</td>\n",
       "      <td>3.0</td>\n",
       "      <td>2.0</td>\n",
       "      <td>1.634247</td>\n",
       "      <td>0.0</td>\n",
       "      <td>0.0</td>\n",
       "      <td>0.0</td>\n",
       "      <td>0.0</td>\n",
       "      <td>1.0</td>\n",
       "      <td>0.0</td>\n",
       "      <td>0.0</td>\n",
       "      <td>0.0</td>\n",
       "    </tr>\n",
       "    <tr>\n",
       "      <th>4</th>\n",
       "      <td>0.607143</td>\n",
       "      <td>0.0</td>\n",
       "      <td>2.0</td>\n",
       "      <td>2.0</td>\n",
       "      <td>3.0</td>\n",
       "      <td>2.0</td>\n",
       "      <td>0.566664</td>\n",
       "      <td>0.0</td>\n",
       "      <td>1.0</td>\n",
       "      <td>0.0</td>\n",
       "      <td>0.0</td>\n",
       "      <td>0.0</td>\n",
       "      <td>0.0</td>\n",
       "      <td>0.0</td>\n",
       "      <td>0.0</td>\n",
       "    </tr>\n",
       "  </tbody>\n",
       "</table></div>"
      ],
      "text/plain": [
       "        Age  Sex  Job  Housing  Saving_accounts  Checking_account  \\\n",
       "0  0.857143  0.0  2.0      0.0              2.0               2.0   \n",
       "1  0.053571  1.0  2.0      0.0              3.0               1.0   \n",
       "2  0.535714  0.0  1.0      0.0              3.0               1.5   \n",
       "3  0.464286  0.0  2.0      2.0              3.0               2.0   \n",
       "4  0.607143  0.0  2.0      2.0              3.0               2.0   \n",
       "\n",
       "   Credit_amount  business  car  domestic_appliances  education  \\\n",
       "0      -0.745131       0.0  0.0                  0.0        0.0   \n",
       "1       0.949817       0.0  0.0                  0.0        0.0   \n",
       "2      -0.416562       0.0  0.0                  0.0        1.0   \n",
       "3       1.634247       0.0  0.0                  0.0        0.0   \n",
       "4       0.566664       0.0  1.0                  0.0        0.0   \n",
       "\n",
       "   furniture_equipment  radio_TV  repairs  vacation_others  \n",
       "0                  0.0       1.0      0.0              0.0  \n",
       "1                  0.0       1.0      0.0              0.0  \n",
       "2                  0.0       0.0      0.0              0.0  \n",
       "3                  1.0       0.0      0.0              0.0  \n",
       "4                  0.0       0.0      0.0              0.0  "
      ]
     },
     "execution_count": 21,
     "metadata": {},
     "output_type": "execute_result"
    }
   ],
   "source": [
    "X.columns = X.columns.str.replace('[ ,/]', '_', regex=True)\n",
    "X.drop(columns='Duration', inplace=True)\n",
    "X.head()"
   ]
  },
  {
   "cell_type": "markdown",
   "metadata": {},
   "source": [
    "### 4.1 Escolha de um modelo a partir da validação k-cross"
   ]
  },
  {
   "cell_type": "markdown",
   "metadata": {},
   "source": [
    "Foi escolhido o ROC_AUC como medida de scoring pois a abordagem é mais sensível à classificação de risco positiva pois erros podem significar perda de grandes oportunidades pro agente de empréstimo."
   ]
  },
  {
   "cell_type": "code",
   "execution_count": 22,
   "metadata": {},
   "outputs": [
    {
     "name": "stdout",
     "output_type": "stream",
     "text": [
      "knn\n",
      "Accuracy: 0.738 (+/- 0.073)\n",
      "RandomForest\n",
      "Accuracy: 0.797 (+/- 0.053)\n",
      "LogisticRegression\n",
      "Accuracy: 0.802 (+/- 0.058)\n",
      "DecisionTree\n",
      "Accuracy: 0.627 (+/- 0.088)\n",
      "XGBoost\n",
      "Accuracy: 0.771 (+/- 0.065)\n"
     ]
    }
   ],
   "source": [
    "knn = KNeighborsClassifier()\n",
    "rf = RandomForestClassifier()\n",
    "lr = LogisticRegression()\n",
    "dt = DecisionTreeClassifier()\n",
    "xgb = XGBClassifier()\n",
    "\n",
    "models = [('knn', knn), ('RandomForest', rf), ('LogisticRegression', lr), ('DecisionTree', dt), ('XGBoost', xgb)]\n",
    "for model in models:\n",
    "    # cv=5 -> StratifiedKfold(k=5) de acordo com a documentação do cross_val_score\n",
    "    scores = cross_val_score(model[1], X.values, y, cv=5, scoring='roc_auc')\n",
    "    print(model[0])\n",
    "    print(\"Accuracy: %0.3f (+/- %0.3f)\" % (scores.mean(), scores.std() * 2))\n"
   ]
  },
  {
   "cell_type": "markdown",
   "metadata": {},
   "source": [
    "Não fora do esperado, LogisticRegression obteve a melhor média de resultados na validação em diferentes participações, logo, será escolhido para prosseguir."
   ]
  },
  {
   "cell_type": "markdown",
   "metadata": {},
   "source": [
    "### 4.2 Tuning de hiperparâmetros"
   ]
  },
  {
   "cell_type": "markdown",
   "metadata": {},
   "source": [
    "\\* Nota, fiz alguns testes de range de max iter para melhoria na performance que não estão nesse notebook para não ficar muito extenso, por isso esses números finais nos params."
   ]
  },
  {
   "cell_type": "code",
   "execution_count": 23,
   "metadata": {},
   "outputs": [
    {
     "data": {
      "text/plain": [
       "GridSearchCV(estimator=LogisticRegression(),\n",
       "             param_grid={'class_weight': [None, 'balanced'],\n",
       "                         'max_iter': [500, 700, 1000],\n",
       "                         'solver': ['liblinear', 'newton-cg', 'lbfgs', 'sag',\n",
       "                                    'saga']})"
      ]
     },
     "execution_count": 23,
     "metadata": {},
     "output_type": "execute_result"
    }
   ],
   "source": [
    "X_train, X_test, y_train, y_test = train_test_split(X, y, random_state = 42, test_size=0.33)\n",
    "\n",
    "params = {\n",
    "    'solver': ['liblinear', 'newton-cg', 'lbfgs', 'sag', 'saga'],\n",
    "    'class_weight':[None, 'balanced'],\n",
    "    'max_iter':[500, 700 , 1000]\n",
    "}\n",
    "#'penalty':'l2' por default]\n",
    "clf1 = GridSearchCV(lr, params) \n",
    "clf1.fit(X_train, y_train)"
   ]
  },
  {
   "cell_type": "code",
   "execution_count": 24,
   "metadata": {},
   "outputs": [
    {
     "data": {
      "text/html": [
       "<div><div id=c5ae5676-691d-455c-9ff7-fe2b98c8f571 style=\"display:none; background-color:#9D6CFF; color:white; width:200px; height:30px; padding-left:5px; border-radius:4px; flex-direction:row; justify-content:space-around; align-items:center;\" onmouseover=\"this.style.backgroundColor='#BA9BF8'\" onmouseout=\"this.style.backgroundColor='#9D6CFF'\" onclick=\"window.commands?.execute('create-mitosheet-from-dataframe-output');\">See Full Dataframe in Mito</div> <script> if (window.commands.hasCommand('create-mitosheet-from-dataframe-output')) document.getElementById('c5ae5676-691d-455c-9ff7-fe2b98c8f571').style.display = 'flex' </script> <table border=\"1\" class=\"dataframe\">\n",
       "  <thead>\n",
       "    <tr style=\"text-align: right;\">\n",
       "      <th></th>\n",
       "      <th>mean_fit_time</th>\n",
       "      <th>std_fit_time</th>\n",
       "      <th>mean_score_time</th>\n",
       "      <th>std_score_time</th>\n",
       "      <th>param_class_weight</th>\n",
       "      <th>param_max_iter</th>\n",
       "      <th>param_solver</th>\n",
       "      <th>params</th>\n",
       "      <th>split0_test_score</th>\n",
       "      <th>split1_test_score</th>\n",
       "      <th>split2_test_score</th>\n",
       "      <th>split3_test_score</th>\n",
       "      <th>split4_test_score</th>\n",
       "      <th>mean_test_score</th>\n",
       "      <th>std_test_score</th>\n",
       "      <th>rank_test_score</th>\n",
       "    </tr>\n",
       "  </thead>\n",
       "  <tbody>\n",
       "    <tr>\n",
       "      <th>20</th>\n",
       "      <td>0.002393</td>\n",
       "      <td>0.000489</td>\n",
       "      <td>0.001197</td>\n",
       "      <td>0.000399</td>\n",
       "      <td>balanced</td>\n",
       "      <td>700</td>\n",
       "      <td>liblinear</td>\n",
       "      <td>{'class_weight': 'balanced', 'max_iter': 700, 'solver': 'liblinear'}</td>\n",
       "      <td>0.746269</td>\n",
       "      <td>0.723881</td>\n",
       "      <td>0.776119</td>\n",
       "      <td>0.768657</td>\n",
       "      <td>0.776119</td>\n",
       "      <td>0.758209</td>\n",
       "      <td>0.020355</td>\n",
       "      <td>1</td>\n",
       "    </tr>\n",
       "    <tr>\n",
       "      <th>25</th>\n",
       "      <td>0.002588</td>\n",
       "      <td>0.000801</td>\n",
       "      <td>0.001397</td>\n",
       "      <td>0.000799</td>\n",
       "      <td>balanced</td>\n",
       "      <td>1000</td>\n",
       "      <td>liblinear</td>\n",
       "      <td>{'class_weight': 'balanced', 'max_iter': 1000, 'solver': 'liblinear'}</td>\n",
       "      <td>0.746269</td>\n",
       "      <td>0.723881</td>\n",
       "      <td>0.776119</td>\n",
       "      <td>0.768657</td>\n",
       "      <td>0.776119</td>\n",
       "      <td>0.758209</td>\n",
       "      <td>0.020355</td>\n",
       "      <td>1</td>\n",
       "    </tr>\n",
       "    <tr>\n",
       "      <th>15</th>\n",
       "      <td>0.007180</td>\n",
       "      <td>0.006892</td>\n",
       "      <td>0.001796</td>\n",
       "      <td>0.000747</td>\n",
       "      <td>balanced</td>\n",
       "      <td>500</td>\n",
       "      <td>liblinear</td>\n",
       "      <td>{'class_weight': 'balanced', 'max_iter': 500, 'solver': 'liblinear'}</td>\n",
       "      <td>0.746269</td>\n",
       "      <td>0.723881</td>\n",
       "      <td>0.776119</td>\n",
       "      <td>0.768657</td>\n",
       "      <td>0.776119</td>\n",
       "      <td>0.758209</td>\n",
       "      <td>0.020355</td>\n",
       "      <td>1</td>\n",
       "    </tr>\n",
       "  </tbody>\n",
       "</table></div>"
      ],
      "text/plain": [
       "    mean_fit_time  std_fit_time  mean_score_time  std_score_time  \\\n",
       "20       0.002393      0.000489         0.001197        0.000399   \n",
       "25       0.002588      0.000801         0.001397        0.000799   \n",
       "15       0.007180      0.006892         0.001796        0.000747   \n",
       "\n",
       "   param_class_weight param_max_iter param_solver  \\\n",
       "20           balanced            700    liblinear   \n",
       "25           balanced           1000    liblinear   \n",
       "15           balanced            500    liblinear   \n",
       "\n",
       "                                               params  split0_test_score  \\\n",
       "20  {'class_weight': 'balanced', 'max_iter': 700, ...           0.746269   \n",
       "25  {'class_weight': 'balanced', 'max_iter': 1000,...           0.746269   \n",
       "15  {'class_weight': 'balanced', 'max_iter': 500, ...           0.746269   \n",
       "\n",
       "    split1_test_score  split2_test_score  split3_test_score  \\\n",
       "20           0.723881           0.776119           0.768657   \n",
       "25           0.723881           0.776119           0.768657   \n",
       "15           0.723881           0.776119           0.768657   \n",
       "\n",
       "    split4_test_score  mean_test_score  std_test_score  rank_test_score  \n",
       "20           0.776119         0.758209        0.020355                1  \n",
       "25           0.776119         0.758209        0.020355                1  \n",
       "15           0.776119         0.758209        0.020355                1  "
      ]
     },
     "execution_count": 24,
     "metadata": {},
     "output_type": "execute_result"
    }
   ],
   "source": [
    "first_cv_results = pd.DataFrame(clf1.cv_results_)\n",
    "first_cv_results[first_cv_results['rank_test_score']==1].sort_values(by='mean_fit_time').head(3)"
   ]
  },
  {
   "cell_type": "markdown",
   "metadata": {},
   "source": [
    "Pelos resultados e menor tempo de fit, solver liblinear com 'balanced' class_weight demonstrou melhor performance. \n",
    "\n",
    "Como liblinear aceita regularização/penalidade tanto por l1 e l2, um último gridsearch é feito para conferência se não há melhora usando 'l1', antes de avaliamos então a matriz de confusão do clf final"
   ]
  },
  {
   "cell_type": "code",
   "execution_count": 25,
   "metadata": {},
   "outputs": [
    {
     "data": {
      "text/plain": [
       "GridSearchCV(estimator=LogisticRegression(class_weight='balanced', max_iter=700,\n",
       "                                          solver='liblinear'),\n",
       "             param_grid={'penalty': ['l1', 'l2']})"
      ]
     },
     "execution_count": 25,
     "metadata": {},
     "output_type": "execute_result"
    }
   ],
   "source": [
    "lr_class = LogisticRegression(class_weight='balanced', max_iter=700, solver='liblinear')\n",
    "\n",
    "params = {\n",
    "    'penalty':['l1', 'l2']\n",
    "}\n",
    "\n",
    "clf = GridSearchCV(lr_class, params)\n",
    "clf.fit(X_train, y_train)"
   ]
  },
  {
   "cell_type": "code",
   "execution_count": 26,
   "metadata": {},
   "outputs": [
    {
     "data": {
      "text/html": [
       "<div><div id=6a5736a2-54e9-46c6-8e4d-8fbce80d1804 style=\"display:none; background-color:#9D6CFF; color:white; width:200px; height:30px; padding-left:5px; border-radius:4px; flex-direction:row; justify-content:space-around; align-items:center;\" onmouseover=\"this.style.backgroundColor='#BA9BF8'\" onmouseout=\"this.style.backgroundColor='#9D6CFF'\" onclick=\"window.commands?.execute('create-mitosheet-from-dataframe-output');\">See Full Dataframe in Mito</div> <script> if (window.commands.hasCommand('create-mitosheet-from-dataframe-output')) document.getElementById('6a5736a2-54e9-46c6-8e4d-8fbce80d1804').style.display = 'flex' </script> <table border=\"1\" class=\"dataframe\">\n",
       "  <thead>\n",
       "    <tr style=\"text-align: right;\">\n",
       "      <th></th>\n",
       "      <th>mean_fit_time</th>\n",
       "      <th>std_fit_time</th>\n",
       "      <th>mean_score_time</th>\n",
       "      <th>std_score_time</th>\n",
       "      <th>param_penalty</th>\n",
       "      <th>params</th>\n",
       "      <th>split0_test_score</th>\n",
       "      <th>split1_test_score</th>\n",
       "      <th>split2_test_score</th>\n",
       "      <th>split3_test_score</th>\n",
       "      <th>split4_test_score</th>\n",
       "      <th>mean_test_score</th>\n",
       "      <th>std_test_score</th>\n",
       "      <th>rank_test_score</th>\n",
       "    </tr>\n",
       "  </thead>\n",
       "  <tbody>\n",
       "    <tr>\n",
       "      <th>1</th>\n",
       "      <td>0.002992</td>\n",
       "      <td>0.001092</td>\n",
       "      <td>0.001597</td>\n",
       "      <td>0.000488</td>\n",
       "      <td>l2</td>\n",
       "      <td>{'penalty': 'l2'}</td>\n",
       "      <td>0.746269</td>\n",
       "      <td>0.723881</td>\n",
       "      <td>0.776119</td>\n",
       "      <td>0.768657</td>\n",
       "      <td>0.776119</td>\n",
       "      <td>0.758209</td>\n",
       "      <td>0.020355</td>\n",
       "      <td>1</td>\n",
       "    </tr>\n",
       "    <tr>\n",
       "      <th>0</th>\n",
       "      <td>0.003590</td>\n",
       "      <td>0.000797</td>\n",
       "      <td>0.001596</td>\n",
       "      <td>0.000489</td>\n",
       "      <td>l1</td>\n",
       "      <td>{'penalty': 'l1'}</td>\n",
       "      <td>0.738806</td>\n",
       "      <td>0.738806</td>\n",
       "      <td>0.776119</td>\n",
       "      <td>0.768657</td>\n",
       "      <td>0.768657</td>\n",
       "      <td>0.758209</td>\n",
       "      <td>0.016075</td>\n",
       "      <td>1</td>\n",
       "    </tr>\n",
       "  </tbody>\n",
       "</table></div>"
      ],
      "text/plain": [
       "   mean_fit_time  std_fit_time  mean_score_time  std_score_time param_penalty  \\\n",
       "1       0.002992      0.001092         0.001597        0.000488            l2   \n",
       "0       0.003590      0.000797         0.001596        0.000489            l1   \n",
       "\n",
       "              params  split0_test_score  split1_test_score  split2_test_score  \\\n",
       "1  {'penalty': 'l2'}           0.746269           0.723881           0.776119   \n",
       "0  {'penalty': 'l1'}           0.738806           0.738806           0.776119   \n",
       "\n",
       "   split3_test_score  split4_test_score  mean_test_score  std_test_score  \\\n",
       "1           0.768657           0.776119         0.758209        0.020355   \n",
       "0           0.768657           0.768657         0.758209        0.016075   \n",
       "\n",
       "   rank_test_score  \n",
       "1                1  \n",
       "0                1  "
      ]
     },
     "execution_count": 26,
     "metadata": {},
     "output_type": "execute_result"
    }
   ],
   "source": [
    "seccond_cv_results = pd.DataFrame(clf.cv_results_)\n",
    "seccond_cv_results[seccond_cv_results['rank_test_score']==1].sort_values(by='mean_fit_time').head(3)"
   ]
  },
  {
   "cell_type": "markdown",
   "metadata": {},
   "source": [
    "Seguimos então para avaliação de demais métricas"
   ]
  },
  {
   "cell_type": "code",
   "execution_count": 27,
   "metadata": {},
   "outputs": [
    {
     "name": "stdout",
     "output_type": "stream",
     "text": [
      "              precision    recall  f1-score   support\n",
      "\n",
      "           0       0.72      0.78      0.75       190\n",
      "           1       0.66      0.59      0.62       140\n",
      "\n",
      "    accuracy                           0.70       330\n",
      "   macro avg       0.69      0.68      0.68       330\n",
      "weighted avg       0.69      0.70      0.69       330\n",
      "\n"
     ]
    }
   ],
   "source": [
    "y_pred = clf.predict(X_test)\n",
    "print(classification_report(y_test, y_pred))"
   ]
  },
  {
   "cell_type": "markdown",
   "metadata": {},
   "source": [
    "Como visto, o modelo teve uma dificuldade maior em prever a classe de risco, o que é muito explicado pela escolha das classes ter sido baseada apenas em um parâmetro (Duration)."
   ]
  },
  {
   "cell_type": "markdown",
   "metadata": {},
   "source": [
    "# 5. Definindo um score"
   ]
  },
  {
   "cell_type": "markdown",
   "metadata": {},
   "source": [
    "Para continuar então para o 'score', utilizarei as probabilidades de cada classe para obter pontuações de acordo com a probabilidade de ser risco (classe 1), para isso, farei em cima do X_test já que não foram separada mais parcelas dos dados (devido a quantidade de amostras que teria por dataset)"
   ]
  },
  {
   "cell_type": "code",
   "execution_count": 28,
   "metadata": {},
   "outputs": [],
   "source": [
    "y_pred_proba = clf.predict_proba(X_test)\n",
    "credit_risk_scores = X_test.reset_index(drop=True)\n",
    "credit_risk_scores['target'] = y_test.values\n",
    "credit_risk_scores['score'] = np.multiply(y_pred_proba[:, 0], 1000).astype(int) # Em uma escala de 1000 para ficar mais compreensível, sendo mais próximo de 1000 -> maior probabilidade de ser bom\n",
    "credit_risk_scores = credit_risk_scores.sort_values(by='score')"
   ]
  },
  {
   "cell_type": "code",
   "execution_count": 29,
   "metadata": {},
   "outputs": [
    {
     "data": {
      "text/html": [
       "<div><div id=568f4184-d250-48dc-9194-47d8344159aa style=\"display:none; background-color:#9D6CFF; color:white; width:200px; height:30px; padding-left:5px; border-radius:4px; flex-direction:row; justify-content:space-around; align-items:center;\" onmouseover=\"this.style.backgroundColor='#BA9BF8'\" onmouseout=\"this.style.backgroundColor='#9D6CFF'\" onclick=\"window.commands?.execute('create-mitosheet-from-dataframe-output');\">See Full Dataframe in Mito</div> <script> if (window.commands.hasCommand('create-mitosheet-from-dataframe-output')) document.getElementById('568f4184-d250-48dc-9194-47d8344159aa').style.display = 'flex' </script> <table border=\"1\" class=\"dataframe\">\n",
       "  <thead>\n",
       "    <tr style=\"text-align: right;\">\n",
       "      <th></th>\n",
       "      <th>Age</th>\n",
       "      <th>Sex</th>\n",
       "      <th>Job</th>\n",
       "      <th>Housing</th>\n",
       "      <th>Saving_accounts</th>\n",
       "      <th>Checking_account</th>\n",
       "      <th>Credit_amount</th>\n",
       "      <th>business</th>\n",
       "      <th>car</th>\n",
       "      <th>domestic_appliances</th>\n",
       "      <th>education</th>\n",
       "      <th>furniture_equipment</th>\n",
       "      <th>radio_TV</th>\n",
       "      <th>repairs</th>\n",
       "      <th>vacation_others</th>\n",
       "      <th>target</th>\n",
       "      <th>score</th>\n",
       "    </tr>\n",
       "  </thead>\n",
       "  <tbody>\n",
       "    <tr>\n",
       "      <th>98</th>\n",
       "      <td>0.107143</td>\n",
       "      <td>0.0</td>\n",
       "      <td>2.0</td>\n",
       "      <td>0.0</td>\n",
       "      <td>3.0</td>\n",
       "      <td>1.0</td>\n",
       "      <td>3.951952</td>\n",
       "      <td>1.0</td>\n",
       "      <td>0.0</td>\n",
       "      <td>0.0</td>\n",
       "      <td>0.0</td>\n",
       "      <td>0.0</td>\n",
       "      <td>0.0</td>\n",
       "      <td>0.0</td>\n",
       "      <td>0.0</td>\n",
       "      <td>1</td>\n",
       "      <td>0</td>\n",
       "    </tr>\n",
       "    <tr>\n",
       "      <th>109</th>\n",
       "      <td>0.875000</td>\n",
       "      <td>0.0</td>\n",
       "      <td>3.0</td>\n",
       "      <td>0.0</td>\n",
       "      <td>3.0</td>\n",
       "      <td>2.0</td>\n",
       "      <td>4.120313</td>\n",
       "      <td>0.0</td>\n",
       "      <td>1.0</td>\n",
       "      <td>0.0</td>\n",
       "      <td>0.0</td>\n",
       "      <td>0.0</td>\n",
       "      <td>0.0</td>\n",
       "      <td>0.0</td>\n",
       "      <td>0.0</td>\n",
       "      <td>0</td>\n",
       "      <td>1</td>\n",
       "    </tr>\n",
       "    <tr>\n",
       "      <th>87</th>\n",
       "      <td>0.142857</td>\n",
       "      <td>0.0</td>\n",
       "      <td>3.0</td>\n",
       "      <td>0.0</td>\n",
       "      <td>3.0</td>\n",
       "      <td>1.0</td>\n",
       "      <td>3.812301</td>\n",
       "      <td>0.0</td>\n",
       "      <td>1.0</td>\n",
       "      <td>0.0</td>\n",
       "      <td>0.0</td>\n",
       "      <td>0.0</td>\n",
       "      <td>0.0</td>\n",
       "      <td>0.0</td>\n",
       "      <td>0.0</td>\n",
       "      <td>1</td>\n",
       "      <td>2</td>\n",
       "    </tr>\n",
       "    <tr>\n",
       "      <th>269</th>\n",
       "      <td>0.339286</td>\n",
       "      <td>1.0</td>\n",
       "      <td>3.0</td>\n",
       "      <td>2.0</td>\n",
       "      <td>3.0</td>\n",
       "      <td>1.0</td>\n",
       "      <td>3.439781</td>\n",
       "      <td>0.0</td>\n",
       "      <td>1.0</td>\n",
       "      <td>0.0</td>\n",
       "      <td>0.0</td>\n",
       "      <td>0.0</td>\n",
       "      <td>0.0</td>\n",
       "      <td>0.0</td>\n",
       "      <td>0.0</td>\n",
       "      <td>0</td>\n",
       "      <td>4</td>\n",
       "    </tr>\n",
       "    <tr>\n",
       "      <th>239</th>\n",
       "      <td>0.089286</td>\n",
       "      <td>1.0</td>\n",
       "      <td>1.0</td>\n",
       "      <td>1.0</td>\n",
       "      <td>2.0</td>\n",
       "      <td>1.5</td>\n",
       "      <td>2.948523</td>\n",
       "      <td>0.0</td>\n",
       "      <td>1.0</td>\n",
       "      <td>0.0</td>\n",
       "      <td>0.0</td>\n",
       "      <td>0.0</td>\n",
       "      <td>0.0</td>\n",
       "      <td>0.0</td>\n",
       "      <td>0.0</td>\n",
       "      <td>1</td>\n",
       "      <td>8</td>\n",
       "    </tr>\n",
       "  </tbody>\n",
       "</table></div>"
      ],
      "text/plain": [
       "          Age  Sex  Job  Housing  Saving_accounts  Checking_account  \\\n",
       "98   0.107143  0.0  2.0      0.0              3.0               1.0   \n",
       "109  0.875000  0.0  3.0      0.0              3.0               2.0   \n",
       "87   0.142857  0.0  3.0      0.0              3.0               1.0   \n",
       "269  0.339286  1.0  3.0      2.0              3.0               1.0   \n",
       "239  0.089286  1.0  1.0      1.0              2.0               1.5   \n",
       "\n",
       "     Credit_amount  business  car  domestic_appliances  education  \\\n",
       "98        3.951952       1.0  0.0                  0.0        0.0   \n",
       "109       4.120313       0.0  1.0                  0.0        0.0   \n",
       "87        3.812301       0.0  1.0                  0.0        0.0   \n",
       "269       3.439781       0.0  1.0                  0.0        0.0   \n",
       "239       2.948523       0.0  1.0                  0.0        0.0   \n",
       "\n",
       "     furniture_equipment  radio_TV  repairs  vacation_others  target  score  \n",
       "98                   0.0       0.0      0.0              0.0       1      0  \n",
       "109                  0.0       0.0      0.0              0.0       0      1  \n",
       "87                   0.0       0.0      0.0              0.0       1      2  \n",
       "269                  0.0       0.0      0.0              0.0       0      4  \n",
       "239                  0.0       0.0      0.0              0.0       1      8  "
      ]
     },
     "execution_count": 29,
     "metadata": {},
     "output_type": "execute_result"
    }
   ],
   "source": [
    "credit_risk_scores.head()"
   ]
  },
  {
   "cell_type": "markdown",
   "metadata": {},
   "source": [
    "# 6. Definindo critérios de aceite de solicitação de crédito"
   ]
  },
  {
   "cell_type": "markdown",
   "metadata": {},
   "source": [
    "Explicação: Separei primeiro em grupos de 100 em 100 de score (10 decis) para observar se tinha limiares claros de risco alto/médio/baixo"
   ]
  },
  {
   "cell_type": "code",
   "execution_count": 36,
   "metadata": {},
   "outputs": [
    {
     "data": {
      "image/png": "[encoded data removed]",
      "text/plain": [
       "<Figure size 216x432 with 2 Axes>"
      ]
     },
     "metadata": {
      "needs_background": "light"
     },
     "output_type": "display_data"
    }
   ],
   "source": [
    "credit_risk_scores['decil_cut'] = pd.qcut(credit_risk_scores.score, 10, labels = [i for i in range(1, 11)])\n",
    "\n",
    "decile_df = pd.crosstab(\n",
    "credit_risk_scores['decil_cut'],\n",
    "credit_risk_scores['target'].map({1:'risk', 0: 'safe'}),normalize = True) * 100\n",
    "\n",
    "fig, ax = plt.subplots(figsize = (3, 6))\n",
    "ax.set_title('Discriminação dos scores por decil', weight = 'bold')\n",
    "sns.heatmap(decile_df, cmap = 'Blues', annot = True, ax = ax)\n",
    "plt.show()"
   ]
  },
  {
   "cell_type": "markdown",
   "metadata": {},
   "source": [
    "De acordo com os resultados, chego à conclusão:"
   ]
  },
  {
   "cell_type": "markdown",
   "metadata": {},
   "source": [
    "### **De 800-1000 de score**: Conceder\n",
    "\n",
    "### **De 300-799 de score**: Avaliar usando outros critérios\n",
    "\n",
    "### **De 100-299 de score**: Recusar"
   ]
  },
  {
   "cell_type": "markdown",
   "metadata": {},
   "source": [
    "### \\* Nota final: Como foi explicado ao longo do desenvolvimento, foi feita uma escolha de target muito basica nessa abordagem que talvez não seja suficiente para realmente classificar um empréstimo como bom ou ruim. O principal objetivo deste arquivo é mostrar um tipo de solução para este problema em um toy dataset."
   ]
  },
  {
   "cell_type": "markdown",
   "metadata": {},
   "source": [
    "Espero que tenham gostado! :)"
   ]
  }
 ],
 "metadata": {
  "kernelspec": {
   "display_name": "Python 3",
   "language": "python",
   "name": "python3"
  },
  "language_info": {
   "codemirror_mode": {
    "name": "ipython",
    "version": 3
   },
   "file_extension": ".py",
   "mimetype": "text/x-python",
   "name": "python",
   "nbconvert_exporter": "python",
   "pygments_lexer": "ipython3",
   "version": "3.9.2"
  },
  "orig_nbformat": 4
 },
 "nbformat": 4,
 "nbformat_minor": 2
}
